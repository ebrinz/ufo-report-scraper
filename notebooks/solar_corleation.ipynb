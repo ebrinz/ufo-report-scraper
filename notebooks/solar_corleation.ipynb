{
 "cells": [
  {
   "cell_type": "markdown",
   "metadata": {},
   "source": [
    "# Solar Corelation"
   ]
  },
  {
   "cell_type": "code",
   "execution_count": null,
   "metadata": {},
   "outputs": [
    {
     "name": "stderr",
     "output_type": "stream",
     "text": [
      "INFO:src.fetch_solar_data:Fetching solar data from SILSO...\n",
      "INFO:src.fetch_solar_data:Processing data...\n",
      "INFO:src.fetch_solar_data:Processing line 1000/75545\n",
      "INFO:src.fetch_solar_data:Processing line 2000/75545\n",
      "INFO:src.fetch_solar_data:Processing line 3000/75545\n",
      "INFO:src.fetch_solar_data:Processing line 4000/75545\n",
      "INFO:src.fetch_solar_data:Processing line 5000/75545\n",
      "INFO:src.fetch_solar_data:Processing line 6000/75545\n",
      "INFO:src.fetch_solar_data:Processing line 7000/75545\n",
      "INFO:src.fetch_solar_data:Processing line 8000/75545\n",
      "INFO:src.fetch_solar_data:Processing line 9000/75545\n",
      "INFO:src.fetch_solar_data:Processing line 10000/75545\n",
      "INFO:src.fetch_solar_data:Processing line 11000/75545\n",
      "INFO:src.fetch_solar_data:Processing line 12000/75545\n",
      "INFO:src.fetch_solar_data:Processing line 13000/75545\n",
      "INFO:src.fetch_solar_data:Processing line 14000/75545\n",
      "INFO:src.fetch_solar_data:Processing line 15000/75545\n",
      "INFO:src.fetch_solar_data:Processing line 16000/75545\n",
      "INFO:src.fetch_solar_data:Processing line 17000/75545\n",
      "INFO:src.fetch_solar_data:Processing line 18000/75545\n",
      "INFO:src.fetch_solar_data:Processing line 19000/75545\n",
      "INFO:src.fetch_solar_data:Processing line 20000/75545\n",
      "INFO:src.fetch_solar_data:Processing line 21000/75545\n",
      "INFO:src.fetch_solar_data:Processing line 22000/75545\n",
      "INFO:src.fetch_solar_data:Processing line 23000/75545\n",
      "INFO:src.fetch_solar_data:Processing line 24000/75545\n",
      "INFO:src.fetch_solar_data:Processing line 25000/75545\n",
      "INFO:src.fetch_solar_data:Processing line 26000/75545\n",
      "INFO:src.fetch_solar_data:Processing line 27000/75545\n",
      "INFO:src.fetch_solar_data:Processing line 28000/75545\n",
      "INFO:src.fetch_solar_data:Processing line 29000/75545\n",
      "INFO:src.fetch_solar_data:Processing line 30000/75545\n",
      "INFO:src.fetch_solar_data:Processing line 31000/75545\n",
      "INFO:src.fetch_solar_data:Processing line 32000/75545\n",
      "INFO:src.fetch_solar_data:Processing line 33000/75545\n",
      "INFO:src.fetch_solar_data:Processing line 34000/75545\n",
      "INFO:src.fetch_solar_data:Processing line 35000/75545\n",
      "INFO:src.fetch_solar_data:Processing line 36000/75545\n",
      "INFO:src.fetch_solar_data:Processing line 37000/75545\n",
      "INFO:src.fetch_solar_data:Processing line 38000/75545\n",
      "INFO:src.fetch_solar_data:Processing line 39000/75545\n",
      "INFO:src.fetch_solar_data:Processing line 40000/75545\n",
      "INFO:src.fetch_solar_data:Processing line 41000/75545\n",
      "INFO:src.fetch_solar_data:Processing line 42000/75545\n",
      "INFO:src.fetch_solar_data:Processing line 43000/75545\n",
      "INFO:src.fetch_solar_data:Processing line 44000/75545\n",
      "INFO:src.fetch_solar_data:Processing line 45000/75545\n",
      "INFO:src.fetch_solar_data:Processing line 46000/75545\n",
      "INFO:src.fetch_solar_data:Processing line 47000/75545\n",
      "INFO:src.fetch_solar_data:Processing line 48000/75545\n",
      "INFO:src.fetch_solar_data:Processing line 49000/75545\n",
      "INFO:src.fetch_solar_data:Processing line 50000/75545\n",
      "INFO:src.fetch_solar_data:Processing line 51000/75545\n",
      "INFO:src.fetch_solar_data:Processing line 52000/75545\n",
      "INFO:src.fetch_solar_data:Processing line 53000/75545\n",
      "INFO:src.fetch_solar_data:Processing line 54000/75545\n",
      "INFO:src.fetch_solar_data:Processing line 55000/75545\n",
      "INFO:src.fetch_solar_data:Processing line 56000/75545\n",
      "INFO:src.fetch_solar_data:Processing line 57000/75545\n",
      "INFO:src.fetch_solar_data:Processing line 58000/75545\n",
      "INFO:src.fetch_solar_data:Processing line 59000/75545\n",
      "INFO:src.fetch_solar_data:Processing line 60000/75545\n",
      "INFO:src.fetch_solar_data:Processing line 61000/75545\n",
      "INFO:src.fetch_solar_data:Processing line 62000/75545\n",
      "INFO:src.fetch_solar_data:Processing line 63000/75545\n",
      "INFO:src.fetch_solar_data:Processing line 64000/75545\n",
      "INFO:src.fetch_solar_data:Processing line 65000/75545\n",
      "INFO:src.fetch_solar_data:Processing line 66000/75545\n",
      "INFO:src.fetch_solar_data:Processing line 67000/75545\n",
      "INFO:src.fetch_solar_data:Processing line 68000/75545\n",
      "INFO:src.fetch_solar_data:Processing line 69000/75545\n",
      "INFO:src.fetch_solar_data:Processing line 70000/75545\n",
      "INFO:src.fetch_solar_data:Processing line 71000/75545\n",
      "INFO:src.fetch_solar_data:Processing line 72000/75545\n",
      "INFO:src.fetch_solar_data:Processing line 73000/75545\n",
      "INFO:src.fetch_solar_data:Processing line 74000/75545\n",
      "INFO:src.fetch_solar_data:Processing line 75000/75545\n",
      "INFO:src.fetch_solar_data:Creating DataFrame...\n",
      "INFO:src.fetch_solar_data:Solar data saved to data/raw/solar_activity.csv\n",
      "INFO:src.fetch_solar_data:Total records: 75545\n"
     ]
    },
    {
     "name": "stdout",
     "output_type": "stream",
     "text": [
      "test\n"
     ]
    }
   ],
   "source": [
    "from src.data_processor import process_reports\n",
    "from src.fetch_solar_data import fetch_solar_data\n",
    "\n",
    "# reports = process_reports()\n",
    "fetch_solar_data()"
   ]
  },
  {
   "cell_type": "code",
   "execution_count": 5,
   "metadata": {},
   "outputs": [
    {
     "name": "stderr",
     "output_type": "stream",
     "text": [
      "INFO:src.solar_correlation:Loaded 143210 reports\n"
     ]
    },
    {
     "name": "stdout",
     "output_type": "stream",
     "text": [
      "\n",
      "Solar Activity Correlation Analysis:\n",
      "Correlation with sunspot numbers: 0.379 (p=0.000)\n",
      "Correlation with solar flares: 0.379 (p=0.000)\n",
      "\n",
      "UFO Sightings during High Solar Activity:\n",
      "Average sightings on normal days: 6.37\n",
      "Average sightings during high solar activity: 5.65\n"
     ]
    }
   ],
   "source": [
    "from src.solar_correlation import analyze_correlation\n",
    "\n",
    "df = analyze_correlation()"
   ]
  }
 ],
 "metadata": {
  "kernelspec": {
   "display_name": "ufo-report-scraper-z-pEf-Zk",
   "language": "python",
   "name": "python3"
  },
  "language_info": {
   "codemirror_mode": {
    "name": "ipython",
    "version": 3
   },
   "file_extension": ".py",
   "mimetype": "text/x-python",
   "name": "python",
   "nbconvert_exporter": "python",
   "pygments_lexer": "ipython3",
   "version": "3.11.10"
  }
 },
 "nbformat": 4,
 "nbformat_minor": 2
}
