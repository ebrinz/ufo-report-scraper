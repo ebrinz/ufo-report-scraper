{
 "cells": [
  {
   "cell_type": "markdown",
   "metadata": {},
   "source": [
    "# Clustering"
   ]
  },
  {
   "cell_type": "markdown",
   "metadata": {},
   "source": [
    "### Setup data"
   ]
  },
  {
   "cell_type": "code",
   "execution_count": 7,
   "metadata": {},
   "outputs": [
    {
     "name": "stderr",
     "output_type": "stream",
     "text": [
      "2024-11-22 23:41:14,527 [INFO] db.connection: Database connection established.\n",
      "/var/folders/b6/5kj2tkgn6vx8kxcyhfg6pf9c0000gn/T/ipykernel_17005/1175557770.py:28: UserWarning: pandas only supports SQLAlchemy connectable (engine/connection) or database string URI or sqlite3 DBAPI2 connection. Other DBAPI2 objects are not tested. Please consider using SQLAlchemy.\n",
      "  df = pd.read_sql(query, conn)\n"
     ]
    },
    {
     "name": "stdout",
     "output_type": "stream",
     "text": [
      "<bound method NDFrame.head of             rid         occ  \\\n",
      "0       S161267  1606962600   \n",
      "1       S144647  1548320400   \n",
      "2        S98221  1369822500   \n",
      "3        S41177   337932000   \n",
      "4        S33851   337924800   \n",
      "...         ...         ...   \n",
      "105018   S31615   336889500   \n",
      "105019  S145401   203745600   \n",
      "105020   S47792   -47448000   \n",
      "105021   S35366   337404600   \n",
      "105022  S144682  1548601800   \n",
      "\n",
      "                                                      emb        lat  \\\n",
      "0       [0.016444052,0.06212723,0.049611054,0.07362398...  40.837518   \n",
      "1       [0.033369765,-0.022478051,0.020196505,0.001629...  38.802758   \n",
      "2       [0.04027589,-0.015154102,0.007161611,0.0472713...  33.908275   \n",
      "3       [0.028260397,0.04181325,0.024015397,0.04231337...  41.180778   \n",
      "4       [0.04406667,0.040626522,0.0037232835,0.0134104...  44.225891   \n",
      "...                                                   ...        ...   \n",
      "105018  [0.025904214,0.029731477,0.010769772,0.0461099...  39.047133   \n",
      "105019  [0.031506382,0.045394335,0.01820093,0.05647218...  31.419842   \n",
      "105020  [-0.06844463,0.050080966,0.002765435,0.0441758...  43.251636   \n",
      "105021  [0.05024847,0.026604868,0.02690217,0.029932791...  40.071936   \n",
      "105022  [0.0923793,-0.052356236,0.0051388913,0.0378523...  38.231801   \n",
      "\n",
      "              long  \n",
      "0       -75.693556  \n",
      "1       -91.246612  \n",
      "2      -118.011311  \n",
      "3       -73.190495  \n",
      "4       -68.299710  \n",
      "...            ...  \n",
      "105018  -94.550292  \n",
      "105019  -86.089185  \n",
      "105020 -120.595978  \n",
      "105021  -74.109426  \n",
      "105022  -85.725508  \n",
      "\n",
      "[105023 rows x 5 columns]>\n"
     ]
    }
   ],
   "source": [
    "from db.connection import get_connection\n",
    "import pandas as pd\n",
    "\n",
    "query = f\"\"\"\n",
    "    SELECT \n",
    "    a.report_id as rid, \n",
    "    a.occurred as occ, \n",
    "    b.embedding as emb, \n",
    "    c.latitude as lat, \n",
    "    c.longitude as long\n",
    "    FROM \n",
    "    ufo_reports_transform a\n",
    "    JOIN \n",
    "    description_averaged_embeddings b\n",
    "    ON a.report_id = b.report_id\n",
    "    JOIN \n",
    "    city_county_lat_lon c\n",
    "    ON \n",
    "        TRIM(SPLIT_PART(a.location, ',', 1)) = TRIM(c.city) AND \n",
    "        TRIM(SPLIT_PART(a.location, ',', 2)) = TRIM(c.state)\n",
    "    WHERE occurred is not null\n",
    "    ;\n",
    "    \"\"\"\n",
    "\n",
    "conn = get_connection()\n",
    "    \n",
    "try:\n",
    "    df = pd.read_sql(query, conn)\n",
    "except Exception as e:\n",
    "    print(f\"Error executing query: {e}\")\n",
    "    df = None\n",
    "finally:\n",
    "    conn.close()\n",
    "\n",
    "\n",
    "print(df.head)"
   ]
  },
  {
   "cell_type": "markdown",
   "metadata": {},
   "source": [
    "### DBSCAN"
   ]
  },
  {
   "cell_type": "code",
   "execution_count": null,
   "metadata": {},
   "outputs": [
    {
     "ename": "KeyError",
     "evalue": "'embedding'",
     "output_type": "error",
     "traceback": [
      "\u001b[0;31m---------------------------------------------------------------------------\u001b[0m",
      "\u001b[0;31mKeyError\u001b[0m                                  Traceback (most recent call last)",
      "File \u001b[0;32m~/.local/share/virtualenvs/ufo-report-scraper-z-pEf-Zk/lib/python3.11/site-packages/pandas/core/indexes/base.py:3805\u001b[0m, in \u001b[0;36mIndex.get_loc\u001b[0;34m(self, key)\u001b[0m\n\u001b[1;32m   3804\u001b[0m \u001b[38;5;28;01mtry\u001b[39;00m:\n\u001b[0;32m-> 3805\u001b[0m     \u001b[38;5;28;01mreturn\u001b[39;00m \u001b[38;5;28;43mself\u001b[39;49m\u001b[38;5;241;43m.\u001b[39;49m\u001b[43m_engine\u001b[49m\u001b[38;5;241;43m.\u001b[39;49m\u001b[43mget_loc\u001b[49m\u001b[43m(\u001b[49m\u001b[43mcasted_key\u001b[49m\u001b[43m)\u001b[49m\n\u001b[1;32m   3806\u001b[0m \u001b[38;5;28;01mexcept\u001b[39;00m \u001b[38;5;167;01mKeyError\u001b[39;00m \u001b[38;5;28;01mas\u001b[39;00m err:\n",
      "File \u001b[0;32mindex.pyx:167\u001b[0m, in \u001b[0;36mpandas._libs.index.IndexEngine.get_loc\u001b[0;34m()\u001b[0m\n",
      "File \u001b[0;32mindex.pyx:196\u001b[0m, in \u001b[0;36mpandas._libs.index.IndexEngine.get_loc\u001b[0;34m()\u001b[0m\n",
      "File \u001b[0;32mpandas/_libs/hashtable_class_helper.pxi:7081\u001b[0m, in \u001b[0;36mpandas._libs.hashtable.PyObjectHashTable.get_item\u001b[0;34m()\u001b[0m\n",
      "File \u001b[0;32mpandas/_libs/hashtable_class_helper.pxi:7089\u001b[0m, in \u001b[0;36mpandas._libs.hashtable.PyObjectHashTable.get_item\u001b[0;34m()\u001b[0m\n",
      "\u001b[0;31mKeyError\u001b[0m: 'embedding'",
      "\nThe above exception was the direct cause of the following exception:\n",
      "\u001b[0;31mKeyError\u001b[0m                                  Traceback (most recent call last)",
      "Cell \u001b[0;32mIn[10], line 38\u001b[0m\n\u001b[1;32m     34\u001b[0m     plt\u001b[38;5;241m.\u001b[39mylabel(\u001b[38;5;124m\"\u001b[39m\u001b[38;5;124mLatitude\u001b[39m\u001b[38;5;124m\"\u001b[39m)\n\u001b[1;32m     35\u001b[0m     plt\u001b[38;5;241m.\u001b[39mshow()\n\u001b[0;32m---> 38\u001b[0m scaled_features \u001b[38;5;241m=\u001b[39m \u001b[43mprepare_clustering_data\u001b[49m\u001b[43m(\u001b[49m\u001b[43mdf\u001b[49m\u001b[43m)\u001b[49m\n\u001b[1;32m     40\u001b[0m cluster_labels \u001b[38;5;241m=\u001b[39m cluster_with_dbscan(scaled_features, eps\u001b[38;5;241m=\u001b[39m\u001b[38;5;241m2.0\u001b[39m, min_samples\u001b[38;5;241m=\u001b[39m\u001b[38;5;241m50\u001b[39m)\n\u001b[1;32m     42\u001b[0m df[\u001b[38;5;124m'\u001b[39m\u001b[38;5;124mcluster\u001b[39m\u001b[38;5;124m'\u001b[39m] \u001b[38;5;241m=\u001b[39m cluster_labels\n",
      "Cell \u001b[0;32mIn[10], line 7\u001b[0m, in \u001b[0;36mprepare_clustering_data\u001b[0;34m(df)\u001b[0m\n\u001b[1;32m      6\u001b[0m \u001b[38;5;28;01mdef\u001b[39;00m \u001b[38;5;21mprepare_clustering_data\u001b[39m(df):\n\u001b[0;32m----> 7\u001b[0m     df[\u001b[38;5;124m'\u001b[39m\u001b[38;5;124membedding\u001b[39m\u001b[38;5;124m'\u001b[39m] \u001b[38;5;241m=\u001b[39m \u001b[43mdf\u001b[49m\u001b[43m[\u001b[49m\u001b[38;5;124;43m'\u001b[39;49m\u001b[38;5;124;43membedding\u001b[39;49m\u001b[38;5;124;43m'\u001b[39;49m\u001b[43m]\u001b[49m\u001b[38;5;241m.\u001b[39mapply(\u001b[38;5;28meval\u001b[39m)\n\u001b[1;32m      8\u001b[0m     embedding_array \u001b[38;5;241m=\u001b[39m np\u001b[38;5;241m.\u001b[39mstack(df[\u001b[38;5;124m'\u001b[39m\u001b[38;5;124membedding_vector\u001b[39m\u001b[38;5;124m'\u001b[39m]\u001b[38;5;241m.\u001b[39mapply(\u001b[38;5;28meval\u001b[39m)\u001b[38;5;241m.\u001b[39mto_numpy())\n\u001b[1;32m      9\u001b[0m     occurred \u001b[38;5;241m=\u001b[39m df[\u001b[38;5;124m'\u001b[39m\u001b[38;5;124moccurred\u001b[39m\u001b[38;5;124m'\u001b[39m]\u001b[38;5;241m.\u001b[39mvalues\u001b[38;5;241m.\u001b[39mreshape(\u001b[38;5;241m-\u001b[39m\u001b[38;5;241m1\u001b[39m, \u001b[38;5;241m1\u001b[39m)\n",
      "File \u001b[0;32m~/.local/share/virtualenvs/ufo-report-scraper-z-pEf-Zk/lib/python3.11/site-packages/pandas/core/frame.py:4102\u001b[0m, in \u001b[0;36mDataFrame.__getitem__\u001b[0;34m(self, key)\u001b[0m\n\u001b[1;32m   4100\u001b[0m \u001b[38;5;28;01mif\u001b[39;00m \u001b[38;5;28mself\u001b[39m\u001b[38;5;241m.\u001b[39mcolumns\u001b[38;5;241m.\u001b[39mnlevels \u001b[38;5;241m>\u001b[39m \u001b[38;5;241m1\u001b[39m:\n\u001b[1;32m   4101\u001b[0m     \u001b[38;5;28;01mreturn\u001b[39;00m \u001b[38;5;28mself\u001b[39m\u001b[38;5;241m.\u001b[39m_getitem_multilevel(key)\n\u001b[0;32m-> 4102\u001b[0m indexer \u001b[38;5;241m=\u001b[39m \u001b[38;5;28;43mself\u001b[39;49m\u001b[38;5;241;43m.\u001b[39;49m\u001b[43mcolumns\u001b[49m\u001b[38;5;241;43m.\u001b[39;49m\u001b[43mget_loc\u001b[49m\u001b[43m(\u001b[49m\u001b[43mkey\u001b[49m\u001b[43m)\u001b[49m\n\u001b[1;32m   4103\u001b[0m \u001b[38;5;28;01mif\u001b[39;00m is_integer(indexer):\n\u001b[1;32m   4104\u001b[0m     indexer \u001b[38;5;241m=\u001b[39m [indexer]\n",
      "File \u001b[0;32m~/.local/share/virtualenvs/ufo-report-scraper-z-pEf-Zk/lib/python3.11/site-packages/pandas/core/indexes/base.py:3812\u001b[0m, in \u001b[0;36mIndex.get_loc\u001b[0;34m(self, key)\u001b[0m\n\u001b[1;32m   3807\u001b[0m     \u001b[38;5;28;01mif\u001b[39;00m \u001b[38;5;28misinstance\u001b[39m(casted_key, \u001b[38;5;28mslice\u001b[39m) \u001b[38;5;129;01mor\u001b[39;00m (\n\u001b[1;32m   3808\u001b[0m         \u001b[38;5;28misinstance\u001b[39m(casted_key, abc\u001b[38;5;241m.\u001b[39mIterable)\n\u001b[1;32m   3809\u001b[0m         \u001b[38;5;129;01mand\u001b[39;00m \u001b[38;5;28many\u001b[39m(\u001b[38;5;28misinstance\u001b[39m(x, \u001b[38;5;28mslice\u001b[39m) \u001b[38;5;28;01mfor\u001b[39;00m x \u001b[38;5;129;01min\u001b[39;00m casted_key)\n\u001b[1;32m   3810\u001b[0m     ):\n\u001b[1;32m   3811\u001b[0m         \u001b[38;5;28;01mraise\u001b[39;00m InvalidIndexError(key)\n\u001b[0;32m-> 3812\u001b[0m     \u001b[38;5;28;01mraise\u001b[39;00m \u001b[38;5;167;01mKeyError\u001b[39;00m(key) \u001b[38;5;28;01mfrom\u001b[39;00m \u001b[38;5;21;01merr\u001b[39;00m\n\u001b[1;32m   3813\u001b[0m \u001b[38;5;28;01mexcept\u001b[39;00m \u001b[38;5;167;01mTypeError\u001b[39;00m:\n\u001b[1;32m   3814\u001b[0m     \u001b[38;5;66;03m# If we have a listlike key, _check_indexing_error will raise\u001b[39;00m\n\u001b[1;32m   3815\u001b[0m     \u001b[38;5;66;03m#  InvalidIndexError. Otherwise we fall through and re-raise\u001b[39;00m\n\u001b[1;32m   3816\u001b[0m     \u001b[38;5;66;03m#  the TypeError.\u001b[39;00m\n\u001b[1;32m   3817\u001b[0m     \u001b[38;5;28mself\u001b[39m\u001b[38;5;241m.\u001b[39m_check_indexing_error(key)\n",
      "\u001b[0;31mKeyError\u001b[0m: 'embedding'"
     ]
    }
   ],
   "source": [
    "import numpy as np\n",
    "from sklearn.cluster import DBSCAN\n",
    "from sklearn.preprocessing import StandardScaler\n",
    "import matplotlib.pyplot as plt\n",
    "\n",
    "def prepare_clustering_data(df):\n",
    "    embedding_array = np.stack(df['embedding_vector'].apply(eval).to_numpy())\n",
    "    occurred = df['occurred'].values.reshape(-1, 1)\n",
    "    lat_lon = df[['latitude', 'longitude']].values\n",
    "    combined_features = np.hstack([occurred, embedding_array, lat_lon])\n",
    "    scaler = StandardScaler()\n",
    "    scaled_features = scaler.fit_transform(combined_features)\n",
    "    return scaled_features\n",
    "\n",
    "def cluster_with_dbscan(data, eps=0.5, min_samples=10):\n",
    "    dbscan = DBSCAN(eps=eps, min_samples=min_samples, metric='euclidean')\n",
    "    cluster_labels = dbscan.fit_predict(data)\n",
    "    return cluster_labels\n",
    "\n",
    "def visualize_clusters(df, cluster_labels):\n",
    "    plt.figure(figsize=(10, 6))\n",
    "    scatter = plt.scatter(\n",
    "        df['longitude'], \n",
    "        df['latitude'], \n",
    "        c=cluster_labels, \n",
    "        cmap='tab20', \n",
    "        alpha=0.7, \n",
    "        s=5\n",
    "    )\n",
    "    plt.colorbar(scatter, label=\"Cluster Label\")\n",
    "    plt.title(\"Clustering by Latitude and Longitude\")\n",
    "    plt.xlabel(\"Longitude\")\n",
    "    plt.ylabel(\"Latitude\")\n",
    "    plt.show()\n",
    "\n",
    "\n",
    "scaled_features = prepare_clustering_data(df)\n",
    "\n",
    "cluster_labels = cluster_with_dbscan(scaled_features, eps=2.0, min_samples=50)\n",
    "\n",
    "df['cluster'] = cluster_labels\n",
    "\n",
    "visualize_clusters(df, cluster_labels)\n"
   ]
  }
 ],
 "metadata": {
  "kernelspec": {
   "display_name": "ufo-report-scraper-z-pEf-Zk",
   "language": "python",
   "name": "python3"
  },
  "language_info": {
   "codemirror_mode": {
    "name": "ipython",
    "version": 3
   },
   "file_extension": ".py",
   "mimetype": "text/x-python",
   "name": "python",
   "nbconvert_exporter": "python",
   "pygments_lexer": "ipython3",
   "version": "3.11.10"
  }
 },
 "nbformat": 4,
 "nbformat_minor": 2
}
